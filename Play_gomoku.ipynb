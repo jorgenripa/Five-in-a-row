{
 "cells": [
  {
   "cell_type": "markdown",
   "id": "c0299938-13b3-4700-a1ea-e219881d2802",
   "metadata": {},
   "source": [
    "# Playing *connect 5* (gomoku)\n",
    "\n",
    "Run the cell below to play against a trained computer strategy. \n",
    "\n",
    "A new figure window will appear, *possibly behind your browser*.\n"
   ]
  },
  {
   "cell_type": "code",
   "execution_count": 1,
   "id": "302465d8-68c3-4a54-a393-eeec01127ca4",
   "metadata": {},
   "outputs": [
    {
     "name": "stdout",
     "output_type": "stream",
     "text": [
      "INFO:tensorflow:Enabling eager execution\n",
      "INFO:tensorflow:Enabling v2 tensorshape\n",
      "INFO:tensorflow:Enabling resource variables\n",
      "INFO:tensorflow:Enabling tensor equality\n",
      "INFO:tensorflow:Enabling control flow v2\n"
     ]
    }
   ],
   "source": [
    "%matplotlib notebook\n",
    "import matplotlib.pyplot as plt\n",
    "import numpy as np\n",
    "from tensorflow import keras\n",
    "import gameplay as gp\n",
    "\n",
    "gp.board_size = 15 # The board is 15x15\n",
    "gp.seq_to_win = 5  # how many marks in a row counts as a win\n",
    "\n",
    "class GamePlayer:\n",
    "    def __init__(self, model):\n",
    "        self.model = model\n",
    "        self.gomoku_style = True\n",
    "        fig, ax = plt.subplots()\n",
    "        fig.set_size_inches(6,6)\n",
    "        self.axes = ax\n",
    "        self.cid = ax.figure.canvas.mpl_connect('button_press_event', self)\n",
    "        ax.set_axis_off()\n",
    "        self.start_new_game()\n",
    "        \n",
    "    def start_new_game(self):\n",
    "        self.board = np.array(np.zeros((1, gp.board_size, gp.board_size, 2)))\n",
    "        self.game_over = False\n",
    "        self.axes.clear()\n",
    "        if np.random.rand() < 0.5:  # I get to start :-)\n",
    "            self.make_a_move()\n",
    "        gp.plot_board(self.board, None, gomoku_style=True) #, self.axes)\n",
    "        self.axes.figure.suptitle(\"Click to play\")\n",
    "        plt.show()\n",
    "        \n",
    "    def make_a_move(self):\n",
    "        self.board, _, reward, self.game_over, move = gp.make_player_move(self.board, player=0, exploration_rate=0.0, max_factor=1000.0, model=self.model)\n",
    "        return reward, move\n",
    "        \n",
    "    def __call__(self, event):\n",
    "        # print('click', event)\n",
    "        if event.inaxes!=self.axes: return\n",
    "        if self.game_over:  # start a new game\n",
    "            self.start_new_game()\n",
    "            return\n",
    "        \n",
    "        if self.gomoku_style:\n",
    "            row = min([int(event.ydata+0.5), gp.board_size-1])\n",
    "            col = min([int(event.xdata+0.5), gp.board_size-1])\n",
    "        else:\n",
    "            row = min([int(event.ydata), gp.board_size-1])\n",
    "            col = min([int(event.xdata), gp.board_size-1])\n",
    "\n",
    "        if self.board[0,row,col,0] == 0 and self.board[0,row,col,1] == 0:\n",
    "            self.board[0,row,col,1] = 1\n",
    "            self.game_over, reward = gp.check_game_over(self.board, 1, np.array([[row,col]]))\n",
    "            if self.game_over:\n",
    "                if reward==-1:\n",
    "                    self.axes.figure.suptitle(\"You won! Click to start a new game!\")\n",
    "                else:\n",
    "                    self.axes.figure.suptitle(\"It's a tie! Click to start a new game!\")\n",
    "                move = None\n",
    "                    \n",
    "            else:\n",
    "                reward, move = self.make_a_move()\n",
    "                if self.game_over:\n",
    "                    if reward==1:\n",
    "                        self.axes.figure.suptitle(\"I won! Click to start a new game!\")\n",
    "                    else:\n",
    "                        self.axes.figure.suptitle(\"It's a tie! Click to start a new game!\")\n",
    "                \n",
    "            gp.plot_board(self.board, move, gomoku_style=True) #, self.axes)\n",
    "            plt.show()\n",
    "            #self.axes.figure.canvas.draw()\n",
    "\n",
    "\n",
    "model=keras.models.load_model('B15_1_4700.h5')\n",
    "\n",
    "gplayer = GamePlayer(model)"
   ]
  },
  {
   "cell_type": "code",
   "execution_count": null,
   "id": "395bf40c-d6de-4a11-b2de-03d6c9cd6e93",
   "metadata": {},
   "outputs": [],
   "source": []
  }
 ],
 "metadata": {
  "kernelspec": {
   "display_name": "Python 3",
   "language": "python",
   "name": "python3"
  },
  "language_info": {
   "codemirror_mode": {
    "name": "ipython",
    "version": 3
   },
   "file_extension": ".py",
   "mimetype": "text/x-python",
   "name": "python",
   "nbconvert_exporter": "python",
   "pygments_lexer": "ipython3",
   "version": "3.9.4"
  }
 },
 "nbformat": 4,
 "nbformat_minor": 5
}
